{
 "cells": [
  {
   "cell_type": "code",
   "execution_count": 4,
   "metadata": {},
   "outputs": [
    {
     "name": "stdout",
     "output_type": "stream",
     "text": [
      "Part 1: 265018614\n",
      "Part 2: 63179500\n"
     ]
    }
   ],
   "source": [
    "import re\n",
    "\n",
    "with open('D:\\GITHUB\\Advent_of_Code_2023\\Day5\\Text5.1.txt', 'r') as f:\n",
    "    puzzle_input = f.read()\n",
    "\n",
    "\n",
    "def part1(puzzle_input):\n",
    "    segments = puzzle_input.split('\\n\\n')\n",
    "    seeds = re.findall(r'\\d+', segments[0])\n",
    "\n",
    "    min_location = float('inf')\n",
    "    for x in map(int, seeds):\n",
    "        for seg in segments[1:]:\n",
    "            for conversion in re.findall(r'(\\d+) (\\d+) (\\d+)', seg):\n",
    "                destination, start, delta = map(int, conversion)\n",
    "                if x in range(start, start + delta):\n",
    "                    x += destination - start\n",
    "                    break\n",
    "\n",
    "        min_location = min(x, min_location)\n",
    "\n",
    "    return min_location\n",
    "\n",
    "\n",
    "def part2(puzzle_input):\n",
    "    segments = puzzle_input.split('\\n\\n')\n",
    "    intervals = []\n",
    "\n",
    "    for seed in re.findall(r'(\\d+) (\\d+)', segments[0]):\n",
    "        x1, dx = map(int, seed)\n",
    "        x2 = x1 + dx\n",
    "        intervals.append((x1, x2, 1))\n",
    "\n",
    "    min_location = float('inf')\n",
    "    while intervals:\n",
    "        x1, x2, level = intervals.pop()\n",
    "        if level == 8:\n",
    "            min_location = min(x1, min_location)\n",
    "            continue\n",
    "\n",
    "        for conversion in re.findall(r'(\\d+) (\\d+) (\\d+)', segments[level]):\n",
    "            z, y1, dy = map(int, conversion)\n",
    "            y2 = y1 + dy\n",
    "            diff = z - y1\n",
    "            if x2 <= y1 or y2 <= x1:    # no overlap\n",
    "                continue\n",
    "            if x1 < y1:                 # split original interval at y1\n",
    "                intervals.append((x1, y1, level))\n",
    "                x1 = y1\n",
    "            if y2 < x2:                 # split original interval at y2\n",
    "                intervals.append((y2, x2, level))\n",
    "                x2 = y2\n",
    "            intervals.append((x1 + diff, x2 + diff, level + 1)) # perfect overlap -> make conversion and let pass to next nevel \n",
    "            break\n",
    "\n",
    "        else:\n",
    "            intervals.append((x1, x2, level + 1))\n",
    "  \n",
    "    return min_location\n",
    "\n",
    "\n",
    "print('Part 1:', part1(puzzle_input))\n",
    "print('Part 2:', part2(puzzle_input))"
   ]
  },
  {
   "cell_type": "code",
   "execution_count": null,
   "metadata": {},
   "outputs": [],
   "source": []
  }
 ],
 "metadata": {
  "kernelspec": {
   "display_name": "Python 3",
   "language": "python",
   "name": "python3"
  },
  "language_info": {
   "codemirror_mode": {
    "name": "ipython",
    "version": 3
   },
   "file_extension": ".py",
   "mimetype": "text/x-python",
   "name": "python",
   "nbconvert_exporter": "python",
   "pygments_lexer": "ipython3",
   "version": "3.11.7"
  }
 },
 "nbformat": 4,
 "nbformat_minor": 2
}
