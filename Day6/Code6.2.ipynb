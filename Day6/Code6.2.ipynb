{
 "cells": [
  {
   "cell_type": "code",
   "execution_count": 1,
   "metadata": {},
   "outputs": [
    {
     "data": {
      "text/plain": [
       "['Time:        56     97     78     75',\n",
       " 'Distance:   546   1927   1131   1139']"
      ]
     },
     "execution_count": 1,
     "metadata": {},
     "output_type": "execute_result"
    }
   ],
   "source": [
    "import requests\n",
    "import numpy\n",
    "data = requests.get(\"https://raw.githubusercontent.com/00Dabide/Advent_of_Code_2023/main/Day6/Text6.1.txt\").text.split(\"\\n\")\n",
    "data"
   ]
  },
  {
   "cell_type": "code",
   "execution_count": 3,
   "metadata": {},
   "outputs": [
    {
     "data": {
      "text/plain": [
       "{56977875: 546192711311139}"
      ]
     },
     "execution_count": 3,
     "metadata": {},
     "output_type": "execute_result"
    }
   ],
   "source": [
    "races = {56977875:546192711311139}\n",
    "races"
   ]
  },
  {
   "cell_type": "code",
   "execution_count": 4,
   "metadata": {},
   "outputs": [
    {
     "name": "stdout",
     "output_type": "stream",
     "text": [
      "32583852\n"
     ]
    }
   ],
   "source": [
    "allW = []\n",
    "for race in races:\n",
    "    wins = 0\n",
    "    for time in range(race+1):\n",
    "        if time*(race-time) > races[race]:\n",
    "            wins += 1\n",
    "    allW.append(wins)\n",
    "    wins = 0\n",
    "\n",
    "print(numpy.prod(allW))"
   ]
  }
 ],
 "metadata": {
  "kernelspec": {
   "display_name": "Python 3",
   "language": "python",
   "name": "python3"
  },
  "language_info": {
   "codemirror_mode": {
    "name": "ipython",
    "version": 3
   },
   "file_extension": ".py",
   "mimetype": "text/x-python",
   "name": "python",
   "nbconvert_exporter": "python",
   "pygments_lexer": "ipython3",
   "version": "3.11.7"
  }
 },
 "nbformat": 4,
 "nbformat_minor": 2
}
